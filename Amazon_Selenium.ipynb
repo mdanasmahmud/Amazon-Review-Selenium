{
 "cells": [
  {
   "cell_type": "code",
   "execution_count": 9,
   "id": "24fd5aea",
   "metadata": {},
   "outputs": [],
   "source": [
    "# from selenium import webdriver\n",
    "from selenium.webdriver.common.by import By\n",
    "from selenium.webdriver.support.ui import WebDriverWait\n",
    "from selenium.webdriver.support import expected_conditions as EC\n",
    "import time\n",
    "from selenium.webdriver import Firefox\n",
    "import pandas as pd\n",
    "import re\n",
    "from datetime import datetime\n",
    "# from bs4 import BeautifulSoup as bs\n",
    "# import tqdm"
   ]
  },
  {
   "cell_type": "code",
   "execution_count": 13,
   "id": "9e747a80",
   "metadata": {},
   "outputs": [],
   "source": [
    "filename = 'amazon_urls.txt'\n",
    "file = open('amazon_urls.txt')"
   ]
  },
  {
   "cell_type": "code",
   "execution_count": 14,
   "id": "958907e5",
   "metadata": {},
   "outputs": [],
   "source": [
    "LIST=re.split(\"\\r\\n|\\n\",file.read())\n",
    "file.close()"
   ]
  },
  {
   "cell_type": "code",
   "execution_count": 15,
   "id": "ce15232a",
   "metadata": {},
   "outputs": [
    {
     "name": "stdout",
     "output_type": "stream",
     "text": [
      "https://www.amazon.com/Childrens-Place-Toddler-Cartwheel-Shorts/dp/B08Y1CDJJ2/\n",
      "['https://www.amazon.com/Childrens-Place-Toddler-Cartwheel-Shorts/dp/B08Y1CDJJ2/']\n"
     ]
    }
   ],
   "source": [
    "x = []\n",
    "for i in LIST:\n",
    "    print(i.split('~')[-1])\n",
    "    x.append(i.split('~')[-1])\n",
    "print(x)"
   ]
  },
  {
   "cell_type": "code",
   "execution_count": 16,
   "id": "5b78ee56",
   "metadata": {},
   "outputs": [
    {
     "data": {
      "text/plain": [
       "['amazon_urls', 'txt']"
      ]
     },
     "execution_count": 16,
     "metadata": {},
     "output_type": "execute_result"
    }
   ],
   "source": [
    "filename.split(\".\")"
   ]
  },
  {
   "cell_type": "code",
   "execution_count": 17,
   "id": "d7ffa2aa",
   "metadata": {},
   "outputs": [
    {
     "data": {
      "text/plain": [
       "1"
      ]
     },
     "execution_count": 17,
     "metadata": {},
     "output_type": "execute_result"
    }
   ],
   "source": [
    "len(x)\n"
   ]
  },
  {
   "cell_type": "code",
   "execution_count": 18,
   "id": "db620e17",
   "metadata": {
    "collapsed": true
   },
   "outputs": [
    {
     "name": "stdout",
     "output_type": "stream",
     "text": [
      "Childrens Place Toddler Cartwheel Shorts\n",
      "The Children’s Place offers a huge selection of kid's clothing! Shop us for jeans, shorts, leggings, chinos, polo shirts, dresses, uniforms, pajamas, and accessories. Made with premium quality materials at a great value. Kids clothing made simple.\n",
      "Finished\n"
     ]
    }
   ],
   "source": [
    "product_description, product_url, reviews, reviewers, reviewers_profile, isverified,reviewtitles,reviewedon,reviewerplace,reviewratings, prodname, dfs = [], [], [], [] ,[], [],[],[],[],[],[],[]\n",
    "driver = Firefox()\n",
    "df = pd.DataFrame()\n",
    "driver.maximize_window()\n",
    "i = 0\n",
    "urlCounter = 0\n",
    "while urlCounter != len(x):\n",
    "    url = x[urlCounter]\n",
    "    try:\n",
    "        driver.get(url)\n",
    "        product_name = url.split(\"/\")[3].replace(\"-\",\" \")\n",
    "        print(product_name, end='\\n')\n",
    "        prodname.append(product_name)\n",
    "    except Exception as ex:\n",
    "        print(ex)\n",
    "    try:\n",
    "        all_reviews = driver.find_element(By.CSS_SELECTOR,'#reviews-medley-footer .a-text-bold')\n",
    "        product_details = driver.find_element(By.XPATH, '//div[@id=\"productDescription\"]//span').text\n",
    "        print(product_details)\n",
    "        all_reviews.click()\n",
    "    except Exception as ex:\n",
    "        print(ex)\n",
    "    while True:\n",
    "        ratings = driver.find_elements(By.XPATH, '//i[@data-hook=\"review-star-rating\"]/span')\n",
    "        lst_of_ratings = driver.find_elements(By.CLASS_NAME, \"review-rating\")\n",
    "        review_title = driver.find_elements(By.XPATH, \"//a[@data-hook='review-title']/span\")\n",
    "        is_verified = driver.find_elements(By.XPATH, '//span[@data-hook=\"avp-badge\"]')\n",
    "        loc_date = driver.find_elements(By.XPATH, \"//span[@data-hook='review-date']\")\n",
    "        review = driver.find_elements(By.XPATH, '//span[@data-hook=\"review-body\"]')\n",
    "        reviewer = driver.find_elements(By.CSS_SELECTOR, '#cm_cr-review_list .a-profile-name')\n",
    "        reviewer_elements = driver.find_elements(By.CSS_SELECTOR, '#cm_cr-review_list .a-profile')\n",
    "        try:\n",
    "            next_btn = driver.find_element(By.CSS_SELECTOR, \"#cm_cr-pagination_bar a\")\n",
    "        except:\n",
    "            pass\n",
    "        for i in range(len(review_title)):\n",
    "            try:\n",
    "                other, date = loc_date[i].text.split('on')\n",
    "            except:\n",
    "                pass\n",
    "            place = other.split(' ')[3] +\" \"+ other.split(\" \")[4]\n",
    "            reviewedon.append(date)\n",
    "            reviewerplace.append(place)\n",
    "\n",
    "            for value in lst_of_ratings:\n",
    "                try:\n",
    "                    rating = value.get_attribute('textContent')\n",
    "                except:\n",
    "                    rating='Not Available!'\n",
    "            reviewratings.append(rating)\n",
    "            try:\n",
    "                if len(is_verified) > 0:\n",
    "                    isverified.append(is_verified[i].text)\n",
    "                else:\n",
    "                    isverified.append(\"Not Verified Purchase\")\n",
    "                reviewers_profile.append(reviewer_elements[i].get_attribute('href'))\n",
    "                reviews.append(review[i].text)\n",
    "                reviewers.append(reviewer[i].text)\n",
    "                reviewtitles.append(review_title[i].text)\n",
    "                product_description.append(product_details)\n",
    "                product_url.append(url)\n",
    "            except:\n",
    "                pass\n",
    "        try:\n",
    "            next_btn = driver.find_element(By.XPATH, \"//ul[@class='a-pagination']/li[2]/a\")\n",
    "            next_btn.click()\n",
    "            time.sleep(8)\n",
    "        except Exception as ex:\n",
    "            break\n",
    "    \n",
    "    data = {'Reviewer':reviewers, 'Reviewer Profile Link':reviewers_profile, 'Review Title':reviewtitles, 'Is Verified':isverified,'Review Detail':reviews,'Date':reviewedon,'Place':reviewerplace,\n",
    "       'Rating':reviewratings, 'Product Description':product_description, 'Product Link':product_url }\n",
    "    min_length = len(reviewtitles)\n",
    "    df = pd.DataFrame({k:pd.Series(v[:min_length]) for k,v in data.items()})\n",
    "    df['Product Name'] = product_name\n",
    "    dfs.append(df)\n",
    "    del df\n",
    "    i+=1\n",
    "    urlCounter += 1\n",
    "    \n",
    "finaldata = pd.concat(dfs,axis=0)\n",
    "current_time = datetime.now().strftime(\"%Y-%m-%d %H-%M-%S\")\n",
    "finaldata.to_csv('Amazon_data_'+current_time+'_.csv',index=False)\n",
    "driver.close()\n",
    "print(\"Finished\")"
   ]
  }
 ],
 "metadata": {
  "kernelspec": {
   "display_name": "Python 3 (ipykernel)",
   "language": "python",
   "name": "python3"
  },
  "language_info": {
   "codemirror_mode": {
    "name": "ipython",
    "version": 3
   },
   "file_extension": ".py",
   "mimetype": "text/x-python",
   "name": "python",
   "nbconvert_exporter": "python",
   "pygments_lexer": "ipython3",
   "version": "3.11.4"
  }
 },
 "nbformat": 4,
 "nbformat_minor": 5
}
